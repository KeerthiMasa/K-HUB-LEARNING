{
  "nbformat": 4,
  "nbformat_minor": 0,
  "metadata": {
    "colab": {
      "provenance": [],
      "authorship_tag": "ABX9TyPvGkQSLVNuHrmqpVAix+qr",
      "include_colab_link": true
    },
    "kernelspec": {
      "name": "python3",
      "display_name": "Python 3"
    },
    "language_info": {
      "name": "python"
    }
  },
  "cells": [
    {
      "cell_type": "markdown",
      "metadata": {
        "id": "view-in-github",
        "colab_type": "text"
      },
      "source": [
        "<a href=\"https://colab.research.google.com/github/KeerthiMasa/K-HUB-LEARNING/blob/main/khub_task.ipynb\" target=\"_parent\"><img src=\"https://colab.research.google.com/assets/colab-badge.svg\" alt=\"Open In Colab\"/></a>"
      ]
    },
    {
      "cell_type": "markdown",
      "source": [],
      "metadata": {
        "id": "x-jOFXpBT64w"
      }
    },
    {
      "cell_type": "markdown",
      "source": [
        "Day-1 03/08/25\n",
        "variables"
      ],
      "metadata": {
        "id": "c_maR_BfT8ow"
      }
    },
    {
      "cell_type": "code",
      "execution_count": null,
      "metadata": {
        "colab": {
          "base_uri": "https://localhost:8080/"
        },
        "id": "qQImAdeCTtAe",
        "outputId": "6ed55726-c2b0-4475-f985-0c07a274d2d2"
      },
      "outputs": [
        {
          "output_type": "stream",
          "name": "stdout",
          "text": [
            "hello\n"
          ]
        }
      ],
      "source": [
        "print(\"hello\")"
      ]
    },
    {
      "cell_type": "code",
      "source": [
        "for x in \"banana\":\n",
        "    print(x)"
      ],
      "metadata": {
        "colab": {
          "base_uri": "https://localhost:8080/"
        },
        "id": "SADLi_31XcYp",
        "outputId": "cae1e28b-3f3e-40fe-e403-e25162b49933"
      },
      "execution_count": null,
      "outputs": [
        {
          "output_type": "stream",
          "name": "stdout",
          "text": [
            "b\n",
            "a\n",
            "n\n",
            "a\n",
            "n\n",
            "a\n"
          ]
        }
      ]
    },
    {
      "cell_type": "code",
      "source": [
        "a=\"hello, world!\"\n",
        "print(a)"
      ],
      "metadata": {
        "colab": {
          "base_uri": "https://localhost:8080/"
        },
        "id": "h3yRZKFvYl_c",
        "outputId": "b11fbfe7-141a-45fa-9ae8-4185d16f0732"
      },
      "execution_count": null,
      "outputs": [
        {
          "output_type": "stream",
          "name": "stdout",
          "text": [
            "hello, world!\n"
          ]
        }
      ]
    },
    {
      "cell_type": "code",
      "source": [
        "a=\"hello,world!\"\n",
        "print(len(a))"
      ],
      "metadata": {
        "colab": {
          "base_uri": "https://localhost:8080/"
        },
        "id": "9OxCRVsqZLV2",
        "outputId": "c9364d94-61e2-487f-f802-0c4f2c773fb1"
      },
      "execution_count": null,
      "outputs": [
        {
          "output_type": "stream",
          "name": "stdout",
          "text": [
            "12\n"
          ]
        }
      ]
    },
    {
      "cell_type": "code",
      "source": [
        "txt=\"i am the best coder\"\n",
        "print(\"coder\" in txt)"
      ],
      "metadata": {
        "colab": {
          "base_uri": "https://localhost:8080/"
        },
        "id": "JvFkypYLZapP",
        "outputId": "5cfdad0c-6d2f-4f5c-8c4a-1fffc255c686"
      },
      "execution_count": null,
      "outputs": [
        {
          "output_type": "stream",
          "name": "stdout",
          "text": [
            "True\n"
          ]
        }
      ]
    },
    {
      "cell_type": "code",
      "source": [
        "txt=\"keerthi has on crush with mr.artomatic\"\n",
        "print(\"mr.artomatic\" in txt)"
      ],
      "metadata": {
        "colab": {
          "base_uri": "https://localhost:8080/"
        },
        "id": "MvogsL3Maz4a",
        "outputId": "d9fa99b6-e194-413d-8941-9ae8b37ae322"
      },
      "execution_count": null,
      "outputs": [
        {
          "output_type": "stream",
          "name": "stdout",
          "text": [
            "True\n"
          ]
        }
      ]
    },
    {
      "cell_type": "code",
      "source": [
        "b = \"Hello, World!\"\n",
        "print(b[2:5])"
      ],
      "metadata": {
        "colab": {
          "base_uri": "https://localhost:8080/"
        },
        "id": "0z-yZTsbbcxT",
        "outputId": "35335e80-34d5-4d2c-bb76-c54ca80ad30b"
      },
      "execution_count": null,
      "outputs": [
        {
          "output_type": "stream",
          "name": "stdout",
          "text": [
            "llo\n"
          ]
        }
      ]
    },
    {
      "cell_type": "code",
      "source": [
        "b = \"Hello, World!\"\n",
        "print(b[:5])"
      ],
      "metadata": {
        "colab": {
          "base_uri": "https://localhost:8080/"
        },
        "id": "HvykMu2RflrP",
        "outputId": "e61ff420-a192-4426-9f69-0b34dfb09567"
      },
      "execution_count": null,
      "outputs": [
        {
          "output_type": "stream",
          "name": "stdout",
          "text": [
            "Hello\n"
          ]
        }
      ]
    },
    {
      "cell_type": "code",
      "source": [
        "b = \"Hello, World!\"\n",
        "print(b[2:])\n"
      ],
      "metadata": {
        "colab": {
          "base_uri": "https://localhost:8080/"
        },
        "id": "Ov6dYHoAgc-f",
        "outputId": "6d1b52b9-a05b-4452-f1c2-fdce78209d4c"
      },
      "execution_count": null,
      "outputs": [
        {
          "output_type": "stream",
          "name": "stdout",
          "text": [
            "llo, World!\n"
          ]
        }
      ]
    },
    {
      "cell_type": "code",
      "source": [
        "b = \"Hello, World!\"\n",
        "print(b[-5:-2])"
      ],
      "metadata": {
        "colab": {
          "base_uri": "https://localhost:8080/"
        },
        "id": "mZv8bE9Ji_5O",
        "outputId": "7e6fb509-5303-4f44-e1a8-ce7d15691648"
      },
      "execution_count": null,
      "outputs": [
        {
          "output_type": "stream",
          "name": "stdout",
          "text": [
            "orl\n"
          ]
        }
      ]
    },
    {
      "cell_type": "code",
      "source": [
        "a = \"Hello, World!\"\n",
        "print(a.upper())"
      ],
      "metadata": {
        "colab": {
          "base_uri": "https://localhost:8080/"
        },
        "id": "7g4ghCeGmLNL",
        "outputId": "17094b76-430d-460d-8807-6b0e5efea488"
      },
      "execution_count": null,
      "outputs": [
        {
          "output_type": "stream",
          "name": "stdout",
          "text": [
            "HELLO, WORLD!\n"
          ]
        }
      ]
    },
    {
      "cell_type": "code",
      "source": [
        "a = \"Hello, World!\"\n",
        "print(a.lower())"
      ],
      "metadata": {
        "colab": {
          "base_uri": "https://localhost:8080/"
        },
        "id": "l_WWUAzumPw5",
        "outputId": "a1d88910-5329-4cf7-fb86-45a9cc523212"
      },
      "execution_count": null,
      "outputs": [
        {
          "output_type": "stream",
          "name": "stdout",
          "text": [
            "hello, world!\n"
          ]
        }
      ]
    },
    {
      "cell_type": "code",
      "source": [
        " a= \" Hello, World! \"\n",
        "print(a.strip())"
      ],
      "metadata": {
        "id": "sqg5gKJEmVnS",
        "colab": {
          "base_uri": "https://localhost:8080/"
        },
        "outputId": "565296a2-226c-4cc1-9e00-8f73f5636bc5"
      },
      "execution_count": null,
      "outputs": [
        {
          "output_type": "stream",
          "name": "stdout",
          "text": [
            "Hello, World!\n"
          ]
        }
      ]
    },
    {
      "cell_type": "code",
      "source": [
        "a=\"hello,world!\"\n",
        "print(a.strip())"
      ],
      "metadata": {
        "colab": {
          "base_uri": "https://localhost:8080/"
        },
        "id": "MwI_JQZSSXFZ",
        "outputId": "7eae04c5-4483-4de1-d194-528679128bda"
      },
      "execution_count": null,
      "outputs": [
        {
          "output_type": "stream",
          "name": "stdout",
          "text": [
            "hello,world!\n"
          ]
        }
      ]
    },
    {
      "cell_type": "code",
      "source": [
        "a=\"hello,world!\"\n",
        "print(a.replace(\"h\", \"H\"))"
      ],
      "metadata": {
        "colab": {
          "base_uri": "https://localhost:8080/"
        },
        "id": "wDg5zRkUSehK",
        "outputId": "06ba341b-87bd-4fd1-c956-a8cdbf87ab12"
      },
      "execution_count": null,
      "outputs": [
        {
          "output_type": "stream",
          "name": "stdout",
          "text": [
            "Hello,world!\n"
          ]
        }
      ]
    },
    {
      "cell_type": "code",
      "source": [
        "a=\"Hello,World!\"\n",
        "print(a.split(\",\"))"
      ],
      "metadata": {
        "colab": {
          "base_uri": "https://localhost:8080/"
        },
        "id": "FYYv52VjToRs",
        "outputId": "034ad888-bcd8-49c8-fbaa-d93bf491b73e"
      },
      "execution_count": null,
      "outputs": [
        {
          "output_type": "stream",
          "name": "stdout",
          "text": [
            "['Hello', 'World!']\n"
          ]
        }
      ]
    },
    {
      "cell_type": "code",
      "source": [
        "a=\"hello\"\n",
        "b=\"world\"\n",
        "c=a+b\n",
        "print(c)"
      ],
      "metadata": {
        "colab": {
          "base_uri": "https://localhost:8080/"
        },
        "id": "J4NNR-MJT4rb",
        "outputId": "30636e21-652a-4904-a906-ecee13ec746a"
      },
      "execution_count": null,
      "outputs": [
        {
          "output_type": "stream",
          "name": "stdout",
          "text": [
            "helloworld\n"
          ]
        }
      ]
    },
    {
      "cell_type": "code",
      "source": [
        "a=\"hello\"\n",
        "b=\"world\"\n",
        "c=a+\" \"+b\n",
        "print(c)"
      ],
      "metadata": {
        "colab": {
          "base_uri": "https://localhost:8080/"
        },
        "id": "8tnaHeW6UH5W",
        "outputId": "b4b40ef8-2592-4604-da4c-3a03be2629db"
      },
      "execution_count": null,
      "outputs": [
        {
          "output_type": "stream",
          "name": "stdout",
          "text": [
            "hello world\n"
          ]
        }
      ]
    },
    {
      "cell_type": "markdown",
      "source": [
        "# New Section"
      ],
      "metadata": {
        "id": "A9pZ_0xFZ_Jx"
      }
    },
    {
      "cell_type": "markdown",
      "source": [
        "boolean"
      ],
      "metadata": {
        "id": "QlQRbrw3aO3d"
      }
    },
    {
      "cell_type": "code",
      "source": [
        "print(10>9)\n",
        "print(10==9)\n",
        "print(10>9)"
      ],
      "metadata": {
        "colab": {
          "base_uri": "https://localhost:8080/"
        },
        "id": "I6mjGPmjaS02",
        "outputId": "463786f7-d1fc-4cc7-e3c0-ab72c50f81ca"
      },
      "execution_count": null,
      "outputs": [
        {
          "output_type": "stream",
          "name": "stdout",
          "text": [
            "True\n",
            "False\n",
            "True\n"
          ]
        }
      ]
    },
    {
      "cell_type": "code",
      "source": [
        "print(bool(\"hello\"))\n",
        "print(bool(15))"
      ],
      "metadata": {
        "colab": {
          "base_uri": "https://localhost:8080/"
        },
        "id": "VeQBu0yKbE2F",
        "outputId": "90a6ed72-01ae-46a8-e73d-cc1314fb821d"
      },
      "execution_count": null,
      "outputs": [
        {
          "output_type": "stream",
          "name": "stdout",
          "text": [
            "True\n",
            "True\n"
          ]
        }
      ]
    },
    {
      "cell_type": "code",
      "source": [
        "x=\"hello\"\n",
        "y=15\n",
        "print(bool(x))\n",
        "print(bool(y))"
      ],
      "metadata": {
        "colab": {
          "base_uri": "https://localhost:8080/"
        },
        "id": "GLLoJWOPb6rZ",
        "outputId": "8219124b-c926-4576-b694-d7c5103f6e5c"
      },
      "execution_count": null,
      "outputs": [
        {
          "output_type": "stream",
          "name": "stdout",
          "text": [
            "True\n",
            "True\n"
          ]
        }
      ]
    },
    {
      "cell_type": "code",
      "source": [
        "def myfunction():\n",
        "     return True\n",
        "print(myfunction())"
      ],
      "metadata": {
        "colab": {
          "base_uri": "https://localhost:8080/"
        },
        "id": "xMTzgNEFchUS",
        "outputId": "88867377-639e-4084-9027-c0e559dbe426"
      },
      "execution_count": null,
      "outputs": [
        {
          "output_type": "stream",
          "name": "stdout",
          "text": [
            "True\n"
          ]
        }
      ]
    },
    {
      "cell_type": "markdown",
      "source": [
        "# New Section"
      ],
      "metadata": {
        "id": "aU5NvFCVtj_K"
      }
    },
    {
      "cell_type": "markdown",
      "source": [
        "LISTS"
      ],
      "metadata": {
        "id": "ZmKJyrLatmRO"
      }
    },
    {
      "cell_type": "code",
      "source": [
        "thislist = [\"apple\", \"banana\", \"cherry\"]\n",
        "print(thislist)\n"
      ],
      "metadata": {
        "id": "AUcm9bZhtpFu"
      },
      "execution_count": null,
      "outputs": []
    }
  ]
}